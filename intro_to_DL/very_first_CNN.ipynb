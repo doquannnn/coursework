{
  "nbformat": 4,
  "nbformat_minor": 0,
  "metadata": {
    "colab": {
      "name": "Untitled16.ipynb",
      "provenance": []
    },
    "kernelspec": {
      "name": "python3",
      "display_name": "Python 3"
    },
    "language_info": {
      "name": "python"
    },
    "accelerator": "GPU"
  },
  "cells": [
    {
      "cell_type": "code",
      "metadata": {
        "id": "GSC8kUDEtKm1"
      },
      "source": [
        "import pandas as pd\n",
        "import numpy as np\n",
        "import matplotlib.pyplot as plt\n",
        "import tensorflow as tf\n",
        "from keras import Model, Sequential\n",
        "from keras.layers import Input, Flatten, Dense, Conv2D, MaxPooling2D"
      ],
      "execution_count": 1,
      "outputs": []
    },
    {
      "cell_type": "code",
      "metadata": {
        "id": "EnTGahPktMSk"
      },
      "source": [
        "(train_data, train_labels), (test_data, test_labels) = tf.keras.datasets.mnist.load_data()"
      ],
      "execution_count": 2,
      "outputs": []
    },
    {
      "cell_type": "code",
      "metadata": {
        "colab": {
          "base_uri": "https://localhost:8080/"
        },
        "id": "fJLaJlad9tPh",
        "outputId": "c9c9ebdd-87a0-4a45-f8e0-e36a879dc511"
      },
      "source": [
        "test_labels.shape, test_data.shape"
      ],
      "execution_count": 3,
      "outputs": [
        {
          "output_type": "execute_result",
          "data": {
            "text/plain": [
              "((10000,), (10000, 28, 28))"
            ]
          },
          "metadata": {
            "tags": []
          },
          "execution_count": 3
        }
      ]
    },
    {
      "cell_type": "code",
      "metadata": {
        "id": "xdcFNZc5y9pN"
      },
      "source": [
        "train_data = train_data.reshape(-1, 28, 28, 1) / 255.0\n",
        "\n",
        "test_data = test_data.reshape(-1, 28, 28, 1) / 255.0"
      ],
      "execution_count": 4,
      "outputs": []
    },
    {
      "cell_type": "code",
      "metadata": {
        "id": "FXBhfNmV_cvp"
      },
      "source": [
        "class LeNet:\n",
        "  def __init__(self):\n",
        "    self.model = None\n",
        "\n",
        "  # Build architecture of the network\n",
        "  def build(self, input_dim):\n",
        "    input = Input(shape=input_dim)\n",
        "    k1 = Conv2D(32, (3, 3), activation='relu')(input)\n",
        "    n1 = Conv2D(32, (2, 2), activation='relu')(k1)\n",
        "    maxpool1 = MaxPooling2D((2, 2))(n1)\n",
        "    k2 = Conv2D(32, (2, 2), activation='relu')(maxpool1)\n",
        "    n2 = Conv2D(16, (2, 2), activation='relu')(k2)\n",
        "    maxpool2 = MaxPooling2D((2, 2))(n2)\n",
        "    k3 = Conv2D(16, (2, 2), activation='relu')(maxpool2)\n",
        "    flatten = Flatten()(k3)\n",
        "    dense = Dense(64, activation='relu')(flatten)\n",
        "    output = Dense(10, activation='softmax')(dense)\n",
        "\n",
        "    self.model = Model(inputs=[input], outputs=[output])\n",
        "    self.model.compile(loss='sparse_categorical_crossentropy', metrics=['acc'])\n",
        "  # Train the given architecture with data\n",
        "  def train(self, x_train, y_train, x_val, y_val):\n",
        "    history = self.model.fit(x_train, y_train, batch_size=128, epochs=10, validation_data=(x_val, y_val))\n",
        "    return history\n",
        "\n",
        "  def predict(self, x_test):\n",
        "    return self.model.predict(x_test)\n",
        "\n",
        "  def summary(self):\n",
        "    self.model.summary()\n",
        "\n",
        "  def load(self, model_file):\n",
        "    self.model = load_model(model_file)\n",
        "\n",
        "  def save(self, model_file):\n",
        "    self.model.save(model_file)"
      ],
      "execution_count": 5,
      "outputs": []
    },
    {
      "cell_type": "code",
      "metadata": {
        "colab": {
          "base_uri": "https://localhost:8080/"
        },
        "id": "ggs4QjES67LL",
        "outputId": "41ef56dc-a398-4240-85b6-ae420956aeeb"
      },
      "source": [
        "leNet = LeNet()\n",
        "leNet.build((28, 28, 1))\n",
        "leNet.summary()"
      ],
      "execution_count": 6,
      "outputs": [
        {
          "output_type": "stream",
          "text": [
            "Model: \"model\"\n",
            "_________________________________________________________________\n",
            "Layer (type)                 Output Shape              Param #   \n",
            "=================================================================\n",
            "input_1 (InputLayer)         [(None, 28, 28, 1)]       0         \n",
            "_________________________________________________________________\n",
            "conv2d (Conv2D)              (None, 26, 26, 32)        320       \n",
            "_________________________________________________________________\n",
            "conv2d_1 (Conv2D)            (None, 25, 25, 32)        4128      \n",
            "_________________________________________________________________\n",
            "max_pooling2d (MaxPooling2D) (None, 12, 12, 32)        0         \n",
            "_________________________________________________________________\n",
            "conv2d_2 (Conv2D)            (None, 11, 11, 32)        4128      \n",
            "_________________________________________________________________\n",
            "conv2d_3 (Conv2D)            (None, 10, 10, 16)        2064      \n",
            "_________________________________________________________________\n",
            "max_pooling2d_1 (MaxPooling2 (None, 5, 5, 16)          0         \n",
            "_________________________________________________________________\n",
            "conv2d_4 (Conv2D)            (None, 4, 4, 16)          1040      \n",
            "_________________________________________________________________\n",
            "flatten (Flatten)            (None, 256)               0         \n",
            "_________________________________________________________________\n",
            "dense (Dense)                (None, 64)                16448     \n",
            "_________________________________________________________________\n",
            "dense_1 (Dense)              (None, 10)                650       \n",
            "=================================================================\n",
            "Total params: 28,778\n",
            "Trainable params: 28,778\n",
            "Non-trainable params: 0\n",
            "_________________________________________________________________\n"
          ],
          "name": "stdout"
        }
      ]
    },
    {
      "cell_type": "code",
      "metadata": {
        "colab": {
          "base_uri": "https://localhost:8080/"
        },
        "id": "mpO2yBLM7SRx",
        "outputId": "9a42e38d-2715-459a-f11e-26a1dd8d5233"
      },
      "source": [
        "history = leNet.train(train_data, train_labels, test_data, test_labels)"
      ],
      "execution_count": 7,
      "outputs": [
        {
          "output_type": "stream",
          "text": [
            "Epoch 1/10\n",
            "469/469 [==============================] - 7s 8ms/step - loss: 0.6137 - acc: 0.7970 - val_loss: 0.0784 - val_acc: 0.9764\n",
            "Epoch 2/10\n",
            "469/469 [==============================] - 3s 7ms/step - loss: 0.0925 - acc: 0.9715 - val_loss: 0.0682 - val_acc: 0.9779\n",
            "Epoch 3/10\n",
            "469/469 [==============================] - 3s 7ms/step - loss: 0.0624 - acc: 0.9820 - val_loss: 0.0398 - val_acc: 0.9874\n",
            "Epoch 4/10\n",
            "469/469 [==============================] - 3s 7ms/step - loss: 0.0484 - acc: 0.9845 - val_loss: 0.0371 - val_acc: 0.9866\n",
            "Epoch 5/10\n",
            "469/469 [==============================] - 3s 7ms/step - loss: 0.0373 - acc: 0.9886 - val_loss: 0.0349 - val_acc: 0.9885\n",
            "Epoch 6/10\n",
            "469/469 [==============================] - 3s 7ms/step - loss: 0.0311 - acc: 0.9906 - val_loss: 0.0289 - val_acc: 0.9907\n",
            "Epoch 7/10\n",
            "469/469 [==============================] - 3s 7ms/step - loss: 0.0283 - acc: 0.9916 - val_loss: 0.0394 - val_acc: 0.9869\n",
            "Epoch 8/10\n",
            "469/469 [==============================] - 3s 7ms/step - loss: 0.0229 - acc: 0.9927 - val_loss: 0.0290 - val_acc: 0.9908\n",
            "Epoch 9/10\n",
            "469/469 [==============================] - 3s 7ms/step - loss: 0.0203 - acc: 0.9938 - val_loss: 0.0253 - val_acc: 0.9913\n",
            "Epoch 10/10\n",
            "469/469 [==============================] - 3s 7ms/step - loss: 0.0168 - acc: 0.9949 - val_loss: 0.0277 - val_acc: 0.9908\n"
          ],
          "name": "stdout"
        }
      ]
    },
    {
      "cell_type": "code",
      "metadata": {
        "id": "0n0ryrbYAPt9"
      },
      "source": [
        ""
      ],
      "execution_count": 7,
      "outputs": []
    }
  ]
}