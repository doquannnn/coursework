{
  "cells": [
    {
      "cell_type": "code",
      "execution_count": 1,
      "metadata": {
        "id": "DGRwgs6bJMRp"
      },
      "outputs": [],
      "source": [
        "import pandas as pd\n",
        "import numpy as np\n",
        "import matplotlib.pyplot as plt\n",
        "import tensorflow as tf\n",
        "from keras import Model, Sequential\n",
        "from keras.layers import Input, Flatten, Dense, Conv2D, MaxPooling2D\n",
        "from sklearn.model_selection import train_test_split"
      ]
    },
    {
      "cell_type": "markdown",
      "metadata": {
        "id": "y8n9siCbAFVE"
      },
      "source": [
        "#### Base model"
      ]
    },
    {
      "cell_type": "markdown",
      "metadata": {
        "id": "Ii0rk5q6AFQN"
      },
      "source": []
    },
    {
      "cell_type": "code",
      "execution_count": 2,
      "metadata": {
        "id": "FF6QRkg1Uwhy"
      },
      "outputs": [],
      "source": [
        "class BaseModel:\n",
        "  def __init__(self, ndims, epochs=20, lr=0.001, batch_size=32):\n",
        "    self.ndims = ndims\n",
        "    self.epochs = epochs\n",
        "    self.lr = lr\n",
        "    self.batch_size = batch_size\n",
        "  \n",
        "  def build(self):\n",
        "    self.model = None\n",
        "\n",
        "  def train(self, x, y):\n",
        "    return self.model\n",
        "    \n",
        "  def predict(self, x_test):\n",
        "    return self.model.predict(x_test)\n",
        "    \n",
        "  def summary(self):\n",
        "    self.model.summary()\n",
        "    \n",
        "  def save(self, model_path):\n",
        "    self.model.save(model_path)"
      ]
    },
    {
      "cell_type": "markdown",
      "metadata": {
        "id": "ejC15YvlAHn0"
      },
      "source": [
        "#### Linear Regression model"
      ]
    },
    {
      "cell_type": "code",
      "execution_count": 3,
      "metadata": {
        "id": "mx7sEEtGbCwf"
      },
      "outputs": [],
      "source": [
        "class LinReg(BaseModel):\n",
        "  def __init__(self, **kwargs):\n",
        "    super().__init__(**kwargs)\n",
        "\n",
        "  def build(self):\n",
        "    input = Input(shape=self.ndims)\n",
        "    output = Dense(1)(input)\n",
        "    self.model = Model(inputs=[input], outputs=[output])\n",
        "  \n",
        "  def train(self, x, y):\n",
        "    x_train, x_val, y_train, y_val = train_test_split(x, y, test_size=0.2, random_state=42)\n",
        "    self.model.compile(optimizer=tf.keras.optimizers.SGD(learning_rate=self.lr), loss='mse', metrics=['mse'])\n",
        "    return self.model.fit(x_train, y_train, batch_size=self.batch_size, epochs=self.epochs, \n",
        "                          validation_data=(x_val, y_val))"
      ]
    },
    {
      "cell_type": "code",
      "execution_count": 4,
      "metadata": {
        "id": "8dQ-keTYdDJW"
      },
      "outputs": [],
      "source": [
        "nsample = 200\n",
        "x = np.arange(nsample)\n",
        "np.random.shuffle(x) # inplace\n",
        "y = (x * 3 + 5 + np.random.rand(1, nsample)).reshape(nsample, -1)"
      ]
    },
    {
      "cell_type": "code",
      "execution_count": 5,
      "metadata": {
        "colab": {
          "base_uri": "https://localhost:8080/"
        },
        "id": "bI9PYcwWlf6Z",
        "outputId": "d2d4f23c-c311-40db-b744-973da4063dfc"
      },
      "outputs": [
        {
          "name": "stdout",
          "output_type": "stream",
          "text": [
            "Epoch 1/20\n",
            "5/5 [==============================] - 1s 94ms/step - loss: 80697.4896 - mse: 80697.4896 - val_loss: 5744.7666 - val_mse: 5744.7666\n",
            "Epoch 2/20\n",
            "5/5 [==============================] - 0s 10ms/step - loss: 3500.5785 - mse: 3500.5785 - val_loss: 266.4360 - val_mse: 266.4360\n",
            "Epoch 3/20\n",
            "5/5 [==============================] - 0s 11ms/step - loss: 178.7342 - mse: 178.7342 - val_loss: 19.9427 - val_mse: 19.9427\n",
            "Epoch 4/20\n",
            "5/5 [==============================] - 0s 10ms/step - loss: 13.9868 - mse: 13.9868 - val_loss: 9.4132 - val_mse: 9.4132\n",
            "Epoch 5/20\n",
            "5/5 [==============================] - 0s 10ms/step - loss: 7.5872 - mse: 7.5872 - val_loss: 9.0133 - val_mse: 9.0133\n",
            "Epoch 6/20\n",
            "5/5 [==============================] - 0s 10ms/step - loss: 6.5792 - mse: 6.5792 - val_loss: 8.9722 - val_mse: 8.9722\n",
            "Epoch 7/20\n",
            "5/5 [==============================] - 0s 10ms/step - loss: 7.4467 - mse: 7.4467 - val_loss: 8.9619 - val_mse: 8.9619\n",
            "Epoch 8/20\n",
            "5/5 [==============================] - 0s 10ms/step - loss: 6.6617 - mse: 6.6617 - val_loss: 8.9637 - val_mse: 8.9637\n",
            "Epoch 9/20\n",
            "5/5 [==============================] - 0s 10ms/step - loss: 7.1251 - mse: 7.1251 - val_loss: 8.9600 - val_mse: 8.9600\n",
            "Epoch 10/20\n",
            "5/5 [==============================] - 0s 10ms/step - loss: 6.9738 - mse: 6.9738 - val_loss: 8.9604 - val_mse: 8.9604\n",
            "Epoch 11/20\n",
            "5/5 [==============================] - 0s 9ms/step - loss: 7.3426 - mse: 7.3426 - val_loss: 8.9621 - val_mse: 8.9621\n",
            "Epoch 12/20\n",
            "5/5 [==============================] - 0s 9ms/step - loss: 6.8954 - mse: 6.8954 - val_loss: 8.9590 - val_mse: 8.9590\n",
            "Epoch 13/20\n",
            "5/5 [==============================] - 0s 10ms/step - loss: 8.0298 - mse: 8.0298 - val_loss: 8.9625 - val_mse: 8.9625\n",
            "Epoch 14/20\n",
            "5/5 [==============================] - 0s 10ms/step - loss: 8.1643 - mse: 8.1643 - val_loss: 8.9599 - val_mse: 8.9599\n",
            "Epoch 15/20\n",
            "5/5 [==============================] - 0s 11ms/step - loss: 7.2140 - mse: 7.2140 - val_loss: 8.9577 - val_mse: 8.9577\n",
            "Epoch 16/20\n",
            "5/5 [==============================] - 0s 10ms/step - loss: 7.4921 - mse: 7.4921 - val_loss: 8.9594 - val_mse: 8.9594\n",
            "Epoch 17/20\n",
            "5/5 [==============================] - 0s 10ms/step - loss: 6.8726 - mse: 6.8726 - val_loss: 8.9568 - val_mse: 8.9568\n",
            "Epoch 18/20\n",
            "5/5 [==============================] - 0s 10ms/step - loss: 6.9119 - mse: 6.9119 - val_loss: 8.9618 - val_mse: 8.9618\n",
            "Epoch 19/20\n",
            "5/5 [==============================] - 0s 10ms/step - loss: 7.2086 - mse: 7.2086 - val_loss: 8.9574 - val_mse: 8.9574\n",
            "Epoch 20/20\n",
            "5/5 [==============================] - 0s 10ms/step - loss: 7.2829 - mse: 7.2829 - val_loss: 8.9557 - val_mse: 8.9557\n"
          ]
        }
      ],
      "source": [
        "linreg = LinReg(ndims=1, lr=0.00001) # reduce learning rate in order to prevent from exploding gradient(large gradient value)\n",
        "linreg.build()\n",
        "history = linreg.train(x, y)"
      ]
    },
    {
      "cell_type": "code",
      "execution_count": 6,
      "metadata": {
        "colab": {
          "base_uri": "https://localhost:8080/",
          "height": 337
        },
        "id": "DaxfWaIamiMR",
        "outputId": "032ffd70-6660-45e4-8f68-b902c79318ae"
      },
      "outputs": [
        {
          "data": {
            "text/plain": [
              "[]"
            ]
          },
          "execution_count": 6,
          "metadata": {
            "tags": []
          },
          "output_type": "execute_result"
        },
        {
          "data": {
            "image/png": "[encoded data removed]",
            "text/plain": [
              "<Figure size 576x360 with 1 Axes>"
            ]
          },
          "metadata": {
            "needs_background": "light",
            "tags": []
          },
          "output_type": "display_data"
        }
      ],
      "source": [
        "pd.DataFrame(history.history).plot(figsize=(8, 5))\n",
        "plt.plot()"
      ]
    },
    {
      "cell_type": "markdown",
      "metadata": {
        "id": "-JncvqsZByRM"
      },
      "source": [
        "#### Logistic Regression model"
      ]
    },
    {
      "cell_type": "code",
      "execution_count": 7,
      "metadata": {
        "id": "4p68Xyxyq5nR"
      },
      "outputs": [],
      "source": [
        "class LogReg(BaseModel):\n",
        "  def __init__(self, **kwargs):\n",
        "    super().__init__(**kwargs)\n",
        "  \n",
        "  def build(self):\n",
        "    input = Input(shape=self.ndims)\n",
        "    flatten = Flatten()(input)\n",
        "    output = Dense(1, activation='sigmoid')(flatten)\n",
        "    self.model = Model(inputs=[input], outputs=[output])\n",
        "\n",
        "  def train(self, x, y):\n",
        "    x_train, x_val, y_train, y_val = train_test_split(x, y, test_size=0.2, random_state=42, stratify=y, shuffle=True) # label balance\n",
        "    self.model.compile(optimizer=tf.keras.optimizers.RMSprop(learning_rate=self.lr), loss='binary_crossentropy', metrics=['acc'])\n",
        "    return self.model.fit(x_train, y_train, batch_size=self.batch_size, epochs=self.epochs, \n",
        "                          validation_data=(x_val, y_val))\n"
      ]
    },
    {
      "cell_type": "code",
      "execution_count": 8,
      "metadata": {
        "id": "M6HNrNaGFW-C"
      },
      "outputs": [],
      "source": [
        "(train_data, train_labels), (_, __) = tf.keras.datasets.mnist.load_data()"
      ]
    },
    {
      "cell_type": "code",
      "execution_count": 9,
      "metadata": {
        "id": "w9f2xEPld6ro"
      },
      "outputs": [],
      "source": [
        "train_data = train_data / 255.0 # scaling"
      ]
    },
    {
      "cell_type": "code",
      "execution_count": 10,
      "metadata": {
        "id": "098tguG2IcO4"
      },
      "outputs": [],
      "source": [
        "x = np.concatenate([train_data[train_labels == 9], train_data[train_labels == 6]], axis=0).reshape(-1, 28, 28, 1)\n",
        "y = np.concatenate([train_labels[train_labels == 9], train_labels[train_labels == 6]], axis=0)\n",
        "y[y == 9] = 1; y[y == 6] = 0 # whether a number is 9 or not"
      ]
    },
    {
      "cell_type": "code",
      "execution_count": 11,
      "metadata": {
        "colab": {
          "base_uri": "https://localhost:8080/"
        },
        "id": "Sp9zt6k_KQii",
        "outputId": "287af70a-f18c-420f-9404-78904e18a1b6"
      },
      "outputs": [
        {
          "name": "stdout",
          "output_type": "stream",
          "text": [
            "Epoch 1/20\n",
            "297/297 [==============================] - 1s 3ms/step - loss: 0.2486 - acc: 0.9552 - val_loss: 0.0274 - val_acc: 0.9958\n",
            "Epoch 2/20\n",
            "297/297 [==============================] - 1s 3ms/step - loss: 0.0181 - acc: 0.9979 - val_loss: 0.0187 - val_acc: 0.9962\n",
            "Epoch 3/20\n",
            "297/297 [==============================] - 1s 3ms/step - loss: 0.0097 - acc: 0.9980 - val_loss: 0.0176 - val_acc: 0.9962\n",
            "Epoch 4/20\n",
            "297/297 [==============================] - 1s 2ms/step - loss: 0.0063 - acc: 0.9988 - val_loss: 0.0176 - val_acc: 0.9966\n",
            "Epoch 5/20\n",
            "297/297 [==============================] - 1s 2ms/step - loss: 0.0054 - acc: 0.9986 - val_loss: 0.0187 - val_acc: 0.9966\n",
            "Epoch 6/20\n",
            "297/297 [==============================] - 1s 3ms/step - loss: 0.0049 - acc: 0.9991 - val_loss: 0.0172 - val_acc: 0.9962\n",
            "Epoch 7/20\n",
            "297/297 [==============================] - 1s 3ms/step - loss: 0.0055 - acc: 0.9988 - val_loss: 0.0175 - val_acc: 0.9962\n",
            "Epoch 8/20\n",
            "297/297 [==============================] - 1s 3ms/step - loss: 0.0053 - acc: 0.9988 - val_loss: 0.0176 - val_acc: 0.9966\n",
            "Epoch 9/20\n",
            "297/297 [==============================] - 1s 3ms/step - loss: 0.0063 - acc: 0.9982 - val_loss: 0.0182 - val_acc: 0.9966\n",
            "Epoch 10/20\n",
            "297/297 [==============================] - 1s 3ms/step - loss: 0.0024 - acc: 0.9993 - val_loss: 0.0188 - val_acc: 0.9966\n",
            "Epoch 11/20\n",
            "297/297 [==============================] - 1s 3ms/step - loss: 0.0023 - acc: 0.9994 - val_loss: 0.0193 - val_acc: 0.9966\n",
            "Epoch 12/20\n",
            "297/297 [==============================] - 1s 3ms/step - loss: 0.0029 - acc: 0.9991 - val_loss: 0.0191 - val_acc: 0.9966\n",
            "Epoch 13/20\n",
            "297/297 [==============================] - 1s 2ms/step - loss: 0.0023 - acc: 0.9994 - val_loss: 0.0184 - val_acc: 0.9966\n",
            "Epoch 14/20\n",
            "297/297 [==============================] - 1s 2ms/step - loss: 0.0027 - acc: 0.9992 - val_loss: 0.0192 - val_acc: 0.9966\n",
            "Epoch 15/20\n",
            "297/297 [==============================] - 1s 2ms/step - loss: 0.0041 - acc: 0.9984 - val_loss: 0.0193 - val_acc: 0.9966\n",
            "Epoch 16/20\n",
            "297/297 [==============================] - 1s 2ms/step - loss: 0.0033 - acc: 0.9986 - val_loss: 0.0193 - val_acc: 0.9966\n",
            "Epoch 17/20\n",
            "297/297 [==============================] - 1s 2ms/step - loss: 0.0032 - acc: 0.9990 - val_loss: 0.0186 - val_acc: 0.9958\n",
            "Epoch 18/20\n",
            "297/297 [==============================] - 1s 3ms/step - loss: 0.0014 - acc: 0.9994 - val_loss: 0.0188 - val_acc: 0.9962\n",
            "Epoch 19/20\n",
            "297/297 [==============================] - 1s 3ms/step - loss: 0.0032 - acc: 0.9987 - val_loss: 0.0190 - val_acc: 0.9958\n",
            "Epoch 20/20\n",
            "297/297 [==============================] - 1s 2ms/step - loss: 0.0020 - acc: 0.9993 - val_loss: 0.0200 - val_acc: 0.9966\n"
          ]
        }
      ],
      "source": [
        "logreg = LogReg(ndims=(28, 28))\n",
        "logreg.build()\n",
        "history = logreg.train(x, y)"
      ]
    },
    {
      "cell_type": "code",
      "execution_count": 12,
      "metadata": {
        "colab": {
          "base_uri": "https://localhost:8080/",
          "height": 337
        },
        "id": "auzCa2MqW9ex",
        "outputId": "8b2a96b3-35c7-4846-8b90-dd4bbe7765c3"
      },
      "outputs": [
        {
          "data": {
            "text/plain": [
              "[]"
            ]
          },
          "execution_count": 12,
          "metadata": {
            "tags": []
          },
          "output_type": "execute_result"
        },
        {
          "data": {
            "image/png": "[encoded data removed]",
            "text/plain": [
              "<Figure size 576x360 with 1 Axes>"
            ]
          },
          "metadata": {
            "needs_background": "light",
            "tags": []
          },
          "output_type": "display_data"
        }
      ],
      "source": [
        "pd.DataFrame(history.history).plot(figsize=(8, 5))\n",
        "plt.plot()"
      ]
    },
    {
      "cell_type": "code",
      "execution_count": 13,
      "metadata": {
        "id": "uKnwn9IqKkhf"
      },
      "outputs": [],
      "source": [
        "class SoftmaxReg(BaseModel):\n",
        "  def __init__(self, n_classes, **kwargs):\n",
        "    super().__init__(**kwargs)\n",
        "    self.n_classes = n_classes\n",
        "\n",
        "  def build(self):\n",
        "    input = Input(shape=self.ndims)\n",
        "    flatten = Flatten()(input)\n",
        "    output = Dense(self.n_classes, activation='softmax')(flatten)\n",
        "    self.model = Model(inputs=[input], outputs=[output])\n",
        "  \n",
        "  def train(self, x, y):\n",
        "    x_train, x_val, y_train, y_val = train_test_split(x, y, test_size=0.2, random_state=42, stratify=y, shuffle=True) \n",
        "  \n",
        "    self.model.compile(optimizer=tf.keras.optimizers.RMSprop(learning_rate=self.lr), loss='sparse_categorical_crossentropy', \n",
        "                       metrics=['acc'])\n",
        "    return self.model.fit(x_train, y_train, batch_size=self.batch_size, epochs=self.epochs, \n",
        "                          validation_data=(x_val, y_val))"
      ]
    },
    {
      "cell_type": "code",
      "execution_count": 14,
      "metadata": {
        "colab": {
          "base_uri": "https://localhost:8080/"
        },
        "id": "_cyVVeueLJIk",
        "outputId": "d65dd92e-b68c-4add-aeb5-ff447ae90003"
      },
      "outputs": [
        {
          "name": "stdout",
          "output_type": "stream",
          "text": [
            "Epoch 1/20\n",
            "1500/1500 [==============================] - 3s 2ms/step - loss: 0.7298 - acc: 0.8054 - val_loss: 0.3267 - val_acc: 0.9080\n",
            "Epoch 2/20\n",
            "1500/1500 [==============================] - 3s 2ms/step - loss: 0.3148 - acc: 0.9106 - val_loss: 0.3038 - val_acc: 0.9159\n",
            "Epoch 3/20\n",
            "1500/1500 [==============================] - 3s 2ms/step - loss: 0.2954 - acc: 0.9178 - val_loss: 0.2936 - val_acc: 0.9190\n",
            "Epoch 4/20\n",
            "1500/1500 [==============================] - 3s 2ms/step - loss: 0.2862 - acc: 0.9216 - val_loss: 0.2913 - val_acc: 0.9208\n",
            "Epoch 5/20\n",
            "1500/1500 [==============================] - 3s 2ms/step - loss: 0.2824 - acc: 0.9239 - val_loss: 0.2918 - val_acc: 0.9221\n",
            "Epoch 6/20\n",
            "1500/1500 [==============================] - 3s 2ms/step - loss: 0.2783 - acc: 0.9278 - val_loss: 0.2899 - val_acc: 0.9207\n",
            "Epoch 7/20\n",
            "1500/1500 [==============================] - 3s 2ms/step - loss: 0.2776 - acc: 0.9253 - val_loss: 0.2895 - val_acc: 0.9232\n",
            "Epoch 8/20\n",
            "1500/1500 [==============================] - 3s 2ms/step - loss: 0.2788 - acc: 0.9265 - val_loss: 0.2940 - val_acc: 0.9249\n",
            "Epoch 9/20\n",
            "1500/1500 [==============================] - 3s 2ms/step - loss: 0.2751 - acc: 0.9266 - val_loss: 0.2927 - val_acc: 0.9231\n",
            "Epoch 10/20\n",
            "1500/1500 [==============================] - 3s 2ms/step - loss: 0.2749 - acc: 0.9291 - val_loss: 0.2945 - val_acc: 0.9248\n",
            "Epoch 11/20\n",
            "1500/1500 [==============================] - 3s 2ms/step - loss: 0.2750 - acc: 0.9296 - val_loss: 0.2944 - val_acc: 0.9247\n",
            "Epoch 12/20\n",
            "1500/1500 [==============================] - 3s 2ms/step - loss: 0.2722 - acc: 0.9301 - val_loss: 0.2954 - val_acc: 0.9254\n",
            "Epoch 13/20\n",
            "1500/1500 [==============================] - 3s 2ms/step - loss: 0.2757 - acc: 0.9301 - val_loss: 0.2980 - val_acc: 0.9246\n",
            "Epoch 14/20\n",
            "1500/1500 [==============================] - 3s 2ms/step - loss: 0.2770 - acc: 0.9296 - val_loss: 0.2976 - val_acc: 0.9263\n",
            "Epoch 15/20\n",
            "1500/1500 [==============================] - 3s 2ms/step - loss: 0.2683 - acc: 0.9327 - val_loss: 0.2978 - val_acc: 0.9256\n",
            "Epoch 16/20\n",
            "1500/1500 [==============================] - 3s 2ms/step - loss: 0.2796 - acc: 0.9302 - val_loss: 0.3000 - val_acc: 0.9252\n",
            "Epoch 17/20\n",
            "1500/1500 [==============================] - 3s 2ms/step - loss: 0.2656 - acc: 0.9322 - val_loss: 0.3025 - val_acc: 0.9248\n",
            "Epoch 18/20\n",
            "1500/1500 [==============================] - 3s 2ms/step - loss: 0.2712 - acc: 0.9323 - val_loss: 0.3088 - val_acc: 0.9227\n",
            "Epoch 19/20\n",
            "1500/1500 [==============================] - 3s 2ms/step - loss: 0.2816 - acc: 0.9323 - val_loss: 0.3078 - val_acc: 0.9235\n",
            "Epoch 20/20\n",
            "1500/1500 [==============================] - 3s 2ms/step - loss: 0.2755 - acc: 0.9318 - val_loss: 0.3065 - val_acc: 0.9249\n"
          ]
        }
      ],
      "source": [
        "softmax_reg = SoftmaxReg(ndims=(28, 28), n_classes=10)\n",
        "softmax_reg.build()\n",
        "history = softmax_reg.train(train_data, train_labels) "
      ]
    },
    {
      "cell_type": "code",
      "execution_count": 15,
      "metadata": {
        "colab": {
          "base_uri": "https://localhost:8080/",
          "height": 320
        },
        "id": "dBKE9gj8qMSP",
        "outputId": "be314c50-e66b-4015-8bd1-8373b5074a0b"
      },
      "outputs": [
        {
          "data": {
            "image/png": "[encoded data removed]",
            "text/plain": [
              "<Figure size 576x360 with 1 Axes>"
            ]
          },
          "metadata": {
            "needs_background": "light",
            "tags": []
          },
          "output_type": "display_data"
        }
      ],
      "source": [
        "pd.DataFrame(history.history).plot(figsize=(8, 5))\n",
        "plt.show()"
      ]
    },
    {
      "cell_type": "code",
      "execution_count": 16,
      "metadata": {
        "id": "8L077UkTmMWz"
      },
      "outputs": [],
      "source": [
        "class NeuralNetwork(BaseModel):\n",
        "  def __init__(self, n_classes, **kwargs):\n",
        "    super().__init__(**kwargs)\n",
        "    self.n_classes = n_classes\n",
        "\n",
        "  def build(self):\n",
        "    input = Input(shape=self.ndims)\n",
        "    flatten = Flatten()(input)\n",
        "    hidden1 = Dense(64, activation='relu')(flatten)\n",
        "    hidden2 = Dense(32, activation='relu')(hidden1)\n",
        "    output = Dense(self.n_classes, activation='softmax')(hidden2)\n",
        "    self.model = Model(inputs=[input], outputs=[output])\n",
        "  \n",
        "  def train(self, x, y):\n",
        "    x_train, x_val, y_train, y_val = train_test_split(x, y, test_size=0.2, random_state=42, stratify=y, shuffle=True) \n",
        "  \n",
        "    self.model.compile(optimizer=tf.keras.optimizers.RMSprop(learning_rate=self.lr), loss='sparse_categorical_crossentropy', \n",
        "                       metrics=['acc'])\n",
        "    return self.model.fit(x_train, y_train, batch_size=self.batch_size, epochs=self.epochs, \n",
        "                          validation_data=(x_val, y_val))"
      ]
    },
    {
      "cell_type": "code",
      "execution_count": 17,
      "metadata": {
        "colab": {
          "base_uri": "https://localhost:8080/"
        },
        "id": "zEebiN3EnSsN",
        "outputId": "aa3a3e94-294a-4ff3-9bdd-3ed04a37f639"
      },
      "outputs": [
        {
          "name": "stdout",
          "output_type": "stream",
          "text": [
            "Epoch 1/10\n",
            "1500/1500 [==============================] - 4s 2ms/step - loss: 0.5379 - acc: 0.8491 - val_loss: 0.1811 - val_acc: 0.9497\n",
            "Epoch 2/10\n",
            "1500/1500 [==============================] - 3s 2ms/step - loss: 0.1586 - acc: 0.9517 - val_loss: 0.1419 - val_acc: 0.9584\n",
            "Epoch 3/10\n",
            "1500/1500 [==============================] - 3s 2ms/step - loss: 0.1125 - acc: 0.9684 - val_loss: 0.1184 - val_acc: 0.9671\n",
            "Epoch 4/10\n",
            "1500/1500 [==============================] - 3s 2ms/step - loss: 0.0908 - acc: 0.9734 - val_loss: 0.1184 - val_acc: 0.9676\n",
            "Epoch 5/10\n",
            "1500/1500 [==============================] - 3s 2ms/step - loss: 0.0737 - acc: 0.9779 - val_loss: 0.1072 - val_acc: 0.9707\n",
            "Epoch 6/10\n",
            "1500/1500 [==============================] - 3s 2ms/step - loss: 0.0661 - acc: 0.9803 - val_loss: 0.1114 - val_acc: 0.9707\n",
            "Epoch 7/10\n",
            "1500/1500 [==============================] - 3s 2ms/step - loss: 0.0561 - acc: 0.9826 - val_loss: 0.1209 - val_acc: 0.9695\n",
            "Epoch 8/10\n",
            "1500/1500 [==============================] - 4s 2ms/step - loss: 0.0558 - acc: 0.9839 - val_loss: 0.1297 - val_acc: 0.9679\n",
            "Epoch 9/10\n",
            "1500/1500 [==============================] - 3s 2ms/step - loss: 0.0477 - acc: 0.9871 - val_loss: 0.1184 - val_acc: 0.9722\n",
            "Epoch 10/10\n",
            "1500/1500 [==============================] - 3s 2ms/step - loss: 0.0403 - acc: 0.9880 - val_loss: 0.1138 - val_acc: 0.9722\n"
          ]
        }
      ],
      "source": [
        "neural_net = NeuralNetwork(ndims=(28, 28), n_classes=10, epochs=10)\n",
        "neural_net.build()\n",
        "history = neural_net.train(train_data, train_labels) "
      ]
    },
    {
      "cell_type": "code",
      "execution_count": 18,
      "metadata": {
        "colab": {
          "base_uri": "https://localhost:8080/",
          "height": 320
        },
        "id": "Ovr02wXQrOTz",
        "outputId": "76d8ae84-86a0-47ff-f60a-3d2a53323f98"
      },
      "outputs": [
        {
          "data": {
            "image/png": "[encoded data removed]",
            "text/plain": [
              "<Figure size 576x360 with 1 Axes>"
            ]
          },
          "metadata": {
            "needs_background": "light",
            "tags": []
          },
          "output_type": "display_data"
        }
      ],
      "source": [
        "pd.DataFrame(history.history).plot(figsize=(8, 5))\n",
        "plt.show()"
      ]
    },
    {
      "cell_type": "code",
      "execution_count": 18,
      "metadata": {
        "id": "VQHTvDVBrzIS"
      },
      "outputs": [],
      "source": []
    }
  ],
  "metadata": {
    "accelerator": "GPU",
    "colab": {
      "collapsed_sections": [],
      "name": "Untitled15.ipynb",
      "provenance": []
    },
    "kernelspec": {
      "display_name": "Python 3",
      "language": "python",
      "name": "python3"
    },
    "language_info": {
      "name": "python",
      "version": "3.8.5-final"
    }
  },
  "nbformat": 4,
  "nbformat_minor": 0
}