{
 "cells": [
  {
   "cell_type": "markdown",
   "metadata": {
    "id": "_K8sM32M9Ae7"
   },
   "source": [
    "## Preparing the Data"
   ]
  },
  {
   "cell_type": "markdown",
   "metadata": {
    "id": "KW1TKXBb80IM"
   },
   "source": [
    "### 1) Importing the libraries"
   ]
  },
  {
   "cell_type": "code",
   "execution_count": 1,
   "metadata": {
    "colab": {
     "base_uri": "https://localhost:8080/"
    },
    "id": "onpa6MgF0VpQ",
    "outputId": "37312c91-349c-4321-ad00-19bf41550381"
   },
   "outputs": [
    {
     "name": "stdout",
     "output_type": "stream",
     "text": [
      "Requirement already satisfied: underthesea in /usr/local/lib/python3.7/dist-packages (1.3.1)\n",
      "Requirement already satisfied: python-crfsuite>=0.9.6 in /usr/local/lib/python3.7/dist-packages (from underthesea) (0.9.7)\n",
      "Requirement already satisfied: seqeval in /usr/local/lib/python3.7/dist-packages (from underthesea) (1.2.2)\n",
      "Requirement already satisfied: torch<=1.5.1,>=1.1.0 in /usr/local/lib/python3.7/dist-packages (from underthesea) (1.5.1)\n",
      "Requirement already satisfied: tqdm in /usr/local/lib/python3.7/dist-packages (from underthesea) (4.41.1)\n",
      "Requirement already satisfied: unidecode in /usr/local/lib/python3.7/dist-packages (from underthesea) (1.2.0)\n",
      "Requirement already satisfied: PyYAML in /usr/local/lib/python3.7/dist-packages (from underthesea) (3.13)\n",
      "Requirement already satisfied: transformers<=3.5.1,>=3.5.0 in /usr/local/lib/python3.7/dist-packages (from underthesea) (3.5.1)\n",
      "Requirement already satisfied: Click>=6.0 in /usr/local/lib/python3.7/dist-packages (from underthesea) (7.1.2)\n",
      "Requirement already satisfied: joblib in /usr/local/lib/python3.7/dist-packages (from underthesea) (1.0.1)\n",
      "Requirement already satisfied: requests in /usr/local/lib/python3.7/dist-packages (from underthesea) (2.23.0)\n",
      "Requirement already satisfied: scikit-learn in /usr/local/lib/python3.7/dist-packages (from underthesea) (0.22.2.post1)\n",
      "Requirement already satisfied: nltk in /usr/local/lib/python3.7/dist-packages (from underthesea) (3.2.5)\n",
      "Requirement already satisfied: numpy>=1.14.0 in /usr/local/lib/python3.7/dist-packages (from seqeval->underthesea) (1.19.5)\n",
      "Requirement already satisfied: future in /usr/local/lib/python3.7/dist-packages (from torch<=1.5.1,>=1.1.0->underthesea) (0.16.0)\n",
      "Requirement already satisfied: tokenizers==0.9.3 in /usr/local/lib/python3.7/dist-packages (from transformers<=3.5.1,>=3.5.0->underthesea) (0.9.3)\n",
      "Requirement already satisfied: sentencepiece==0.1.91 in /usr/local/lib/python3.7/dist-packages (from transformers<=3.5.1,>=3.5.0->underthesea) (0.1.91)\n",
      "Requirement already satisfied: packaging in /usr/local/lib/python3.7/dist-packages (from transformers<=3.5.1,>=3.5.0->underthesea) (20.9)\n",
      "Requirement already satisfied: regex!=2019.12.17 in /usr/local/lib/python3.7/dist-packages (from transformers<=3.5.1,>=3.5.0->underthesea) (2019.12.20)\n",
      "Requirement already satisfied: protobuf in /usr/local/lib/python3.7/dist-packages (from transformers<=3.5.1,>=3.5.0->underthesea) (3.12.4)\n",
      "Requirement already satisfied: sacremoses in /usr/local/lib/python3.7/dist-packages (from transformers<=3.5.1,>=3.5.0->underthesea) (0.0.45)\n",
      "Requirement already satisfied: filelock in /usr/local/lib/python3.7/dist-packages (from transformers<=3.5.1,>=3.5.0->underthesea) (3.0.12)\n",
      "Requirement already satisfied: chardet<4,>=3.0.2 in /usr/local/lib/python3.7/dist-packages (from requests->underthesea) (3.0.4)\n",
      "Requirement already satisfied: urllib3!=1.25.0,!=1.25.1,<1.26,>=1.21.1 in /usr/local/lib/python3.7/dist-packages (from requests->underthesea) (1.24.3)\n",
      "Requirement already satisfied: idna<3,>=2.5 in /usr/local/lib/python3.7/dist-packages (from requests->underthesea) (2.10)\n",
      "Requirement already satisfied: certifi>=2017.4.17 in /usr/local/lib/python3.7/dist-packages (from requests->underthesea) (2021.5.30)\n",
      "Requirement already satisfied: scipy>=0.17.0 in /usr/local/lib/python3.7/dist-packages (from scikit-learn->underthesea) (1.4.1)\n",
      "Requirement already satisfied: six in /usr/local/lib/python3.7/dist-packages (from nltk->underthesea) (1.15.0)\n",
      "Requirement already satisfied: pyparsing>=2.0.2 in /usr/local/lib/python3.7/dist-packages (from packaging->transformers<=3.5.1,>=3.5.0->underthesea) (2.4.7)\n",
      "Requirement already satisfied: setuptools in /usr/local/lib/python3.7/dist-packages (from protobuf->transformers<=3.5.1,>=3.5.0->underthesea) (57.0.0)\n"
     ]
    }
   ],
   "source": [
    "!pip install underthesea"
   ]
  },
  {
   "cell_type": "code",
   "execution_count": 2,
   "metadata": {
    "id": "RzNh9zR1x12s"
   },
   "outputs": [],
   "source": [
    "import numpy as np\n",
    "import tensorflow as tf\n",
    "from tensorflow.keras import layers , activations , models , preprocessing , utils\n",
    "import pandas as pd\n",
    "import underthesea"
   ]
  },
  {
   "cell_type": "markdown",
   "metadata": {
    "id": "83aRhJ8489j3"
   },
   "source": [
    "### 2) Reading the data"
   ]
  },
  {
   "cell_type": "code",
   "execution_count": 3,
   "metadata": {
    "colab": {
     "base_uri": "https://localhost:8080/"
    },
    "id": "bUcVxgCRxcZ7",
    "outputId": "f642436e-2a06-4813-b714-aeab89150bac"
   },
   "outputs": [
    {
     "name": "stdout",
     "output_type": "stream",
     "text": [
      "--2021-06-30 15:13:49--  http://www.manythings.org/anki/vie-eng.zip\n",
      "Resolving www.manythings.org (www.manythings.org)... 104.21.55.222, 172.67.173.198, 2606:4700:3031::6815:37de, ...\n",
      "Connecting to www.manythings.org (www.manythings.org)|104.21.55.222|:80... connected.\n",
      "HTTP request sent, awaiting response... 200 OK\n",
      "Length: 298429 (291K) [application/zip]\n",
      "Saving to: ‘vie-eng.zip’\n",
      "\n",
      "vie-eng.zip         100%[===================>] 291.43K  1.20MB/s    in 0.2s    \n",
      "\n",
      "2021-06-30 15:13:50 (1.20 MB/s) - ‘vie-eng.zip’ saved [298429/298429]\n",
      "\n",
      "Archive:  vie-eng.zip\n",
      "replace _about.txt? [y]es, [n]o, [A]ll, [N]one, [r]ename: y\n",
      "  inflating: _about.txt              \n",
      "replace vie.txt? [y]es, [n]o, [A]ll, [N]one, [r]ename: y\n",
      "  inflating: vie.txt                 \n"
     ]
    }
   ],
   "source": [
    "!wget http://www.manythings.org/anki/vie-eng.zip -O vie-eng.zip\n",
    "!unzip vie-eng.zip"
   ]
  },
  {
   "cell_type": "code",
   "execution_count": 4,
   "metadata": {
    "colab": {
     "base_uri": "https://localhost:8080/",
     "height": 204
    },
    "id": "5hZjg0MKxmGL",
    "outputId": "ae3de347-9ad1-42d2-dd81-356eb3d9fe52"
   },
   "outputs": [
    {
     "data": {
      "text/html": [
       "<div>\n",
       "<style scoped>\n",
       "    .dataframe tbody tr th:only-of-type {\n",
       "        vertical-align: middle;\n",
       "    }\n",
       "\n",
       "    .dataframe tbody tr th {\n",
       "        vertical-align: top;\n",
       "    }\n",
       "\n",
       "    .dataframe thead th {\n",
       "        text-align: right;\n",
       "    }\n",
       "</style>\n",
       "<table border=\"1\" class=\"dataframe\">\n",
       "  <thead>\n",
       "    <tr style=\"text-align: right;\">\n",
       "      <th></th>\n",
       "      <th>eng</th>\n",
       "      <th>vie</th>\n",
       "    </tr>\n",
       "  </thead>\n",
       "  <tbody>\n",
       "    <tr>\n",
       "      <th>0</th>\n",
       "      <td>Run!</td>\n",
       "      <td>Chạy !</td>\n",
       "    </tr>\n",
       "    <tr>\n",
       "      <th>1</th>\n",
       "      <td>Help!</td>\n",
       "      <td>Giúp tôi với !</td>\n",
       "    </tr>\n",
       "    <tr>\n",
       "      <th>2</th>\n",
       "      <td>Go on.</td>\n",
       "      <td>Tiếp_tục đi .</td>\n",
       "    </tr>\n",
       "    <tr>\n",
       "      <th>3</th>\n",
       "      <td>Hello!</td>\n",
       "      <td>Chào bạn .</td>\n",
       "    </tr>\n",
       "    <tr>\n",
       "      <th>4</th>\n",
       "      <td>Hurry!</td>\n",
       "      <td>Nhanh lên nào !</td>\n",
       "    </tr>\n",
       "  </tbody>\n",
       "</table>\n",
       "</div>"
      ],
      "text/plain": [
       "      eng              vie\n",
       "0    Run!           Chạy !\n",
       "1   Help!   Giúp tôi với !\n",
       "2  Go on.    Tiếp_tục đi .\n",
       "3  Hello!       Chào bạn .\n",
       "4  Hurry!  Nhanh lên nào !"
      ]
     },
     "execution_count": 4,
     "metadata": {
      "tags": []
     },
     "output_type": "execute_result"
    }
   ],
   "source": [
    "lines = pd.read_table('vie.txt', names=['eng', 'vie'])\n",
    "lines.reset_index(inplace=True)\n",
    "lines.rename( columns={ 'index' : 'eng' , 'eng' : 'vie' , 'vie' : 'c' }, inplace=True)\n",
    "lines.drop('c', axis=1, inplace=True)\n",
    "lines.vie = lines.vie.map(lambda x: underthesea.word_tokenize(x, format='text'))\n",
    "lines.head()"
   ]
  },
  {
   "cell_type": "markdown",
   "metadata": {
    "id": "ass3El-R-SdF"
   },
   "source": [
    "### 3) Preparing input data for the Encoder ( `encoder_input_data` )"
   ]
  },
  {
   "cell_type": "code",
   "execution_count": 5,
   "metadata": {
    "colab": {
     "base_uri": "https://localhost:8080/"
    },
    "id": "m8uOHQtt17rC",
    "outputId": "5ced84c7-4397-4f78-ac2a-d66d70473e0b"
   },
   "outputs": [
    {
     "name": "stdout",
     "output_type": "stream",
     "text": [
      "English max length is 32\n",
      "Encoder input data shape -> (7547, 32)\n",
      "Number of English tokens = 3712\n"
     ]
    }
   ],
   "source": [
    "eng_lines = list(lines.eng)\n",
    "\n",
    "tokenizer = preprocessing.text.Tokenizer()\n",
    "tokenizer.fit_on_texts(eng_lines)\n",
    "tokenized_eng_lines = tokenizer.texts_to_sequences(eng_lines)\n",
    "\n",
    "max_input_length = len(max(tokenized_eng_lines, key=len))\n",
    "print( 'English max length is {}'.format(max_input_length))\n",
    "\n",
    "padded_eng_lines = preprocessing.sequence.pad_sequences(tokenized_eng_lines, maxlen=max_input_length, padding='post')\n",
    "encoder_input_data = np.array(padded_eng_lines)\n",
    "print( 'Encoder input data shape -> {}'.format(encoder_input_data.shape))\n",
    "\n",
    "eng_word_dict = tokenizer.word_index\n",
    "num_eng_tokens = len( eng_word_dict ) + 1\n",
    "print( 'Number of English tokens = {}'.format(num_eng_tokens))"
   ]
  },
  {
   "cell_type": "markdown",
   "metadata": {
    "id": "3OPGQG2U-Zz-"
   },
   "source": [
    "### 4) Preparing input data for the Decoder ( `decoder_input_data` )"
   ]
  },
  {
   "cell_type": "code",
   "execution_count": 6,
   "metadata": {
    "colab": {
     "base_uri": "https://localhost:8080/"
    },
    "id": "qXeXkn4W48iF",
    "outputId": "f1d2e05c-d312-4139-aae3-ef93ec24788a"
   },
   "outputs": [
    {
     "name": "stdout",
     "output_type": "stream",
     "text": [
      "Viet Nam max length is 43\n",
      "Decoder input data shape -> (7547, 43)\n",
      "Number of Vietnamese tokens = 2364\n"
     ]
    }
   ],
   "source": [
    "vie_lines = list(lines.vie.map(lambda x: 'START ' + x + ' END'))\n",
    "\n",
    "tokenizer = preprocessing.text.Tokenizer()\n",
    "tokenizer.fit_on_texts(vie_lines)\n",
    "tokenized_vie_lines = tokenizer.texts_to_sequences(vie_lines)\n",
    "\n",
    "max_output_length = len(max(tokenized_vie_lines, key=len))\n",
    "print( 'Viet Nam max length is {}'.format(max_output_length))\n",
    "\n",
    "padded_vie_lines = preprocessing.sequence.pad_sequences(tokenized_vie_lines, maxlen=max_output_length, padding='post')\n",
    "decoder_input_data = np.array(padded_vie_lines)\n",
    "print( 'Decoder input data shape -> {}'.format(decoder_input_data.shape))\n",
    "\n",
    "vie_word_dict = tokenizer.word_index\n",
    "num_vie_tokens = len(vie_word_dict) + 1\n",
    "print( 'Number of Vietnamese tokens = {}'.format(num_vie_tokens))"
   ]
  },
  {
   "cell_type": "markdown",
   "metadata": {
    "id": "nOHumtnmBrK2"
   },
   "source": [
    "### 5) Preparing target data for the Decoder ( decoder_target_data )"
   ]
  },
  {
   "cell_type": "markdown",
   "metadata": {
    "id": "1jvVso7uCAbF"
   },
   "source": [
    "For example :\n",
    "\n",
    "```\n",
    " [ '<start>' , 'hello' , 'world' , '<end>' ]\n",
    "\n",
    "```\n",
    "\n",
    "wil become \n",
    "\n",
    "```\n",
    " [ 'hello' , 'world' , '<end>' ]\n",
    "\n",
    "```"
   ]
  },
  {
   "cell_type": "code",
   "execution_count": 7,
   "metadata": {
    "colab": {
     "base_uri": "https://localhost:8080/"
    },
    "id": "pPw4Vubl5FRc",
    "outputId": "08e7743d-febb-4f56-c7e2-f09f0bec90ef"
   },
   "outputs": [
    {
     "name": "stdout",
     "output_type": "stream",
     "text": [
      "Decoder target data shape -> (7547, 43, 2364)\n"
     ]
    }
   ],
   "source": [
    "decoder_target_data = list(map(lambda token_seq: token_seq[1: ], tokenized_vie_lines))\n",
    "\n",
    "padded_vie_lines = preprocessing.sequence.pad_sequences(decoder_target_data , maxlen=max_output_length, padding='post' )\n",
    "onehot_vie_lines = utils.to_categorical(padded_vie_lines , num_vie_tokens)\n",
    "decoder_target_data = np.array(onehot_vie_lines)\n",
    "print( 'Decoder target data shape -> {}'.format( decoder_target_data.shape))"
   ]
  },
  {
   "cell_type": "markdown",
   "metadata": {
    "id": "BqqdqpC5DQJf"
   },
   "source": [
    "## Defining and Training the models"
   ]
  },
  {
   "cell_type": "markdown",
   "metadata": {
    "id": "DbN8fkdLDRTg"
   },
   "source": [
    "### 1) Defining the Encoder-Decoder model\n",
    "The model will have Embedding, LSTM and Dense layers. The basic configuration is as follows.\n",
    "\n",
    "\n",
    "*   2 Input Layers : One for `encoder_input_data` and another for `decoder_input_data`.\n",
    "*   Embedding layer : For converting token vectors to fix sized dense vectors. **( Note :  Don't forget the `mask_zero=True` argument here )**\n",
    "*   LSTM layer : Provide access to Long-Short Term cells.\n",
    "\n",
    "Working : \n",
    "\n",
    "1.   The `encoder_input_data` comes in the Embedding layer (  `encoder_embedding` ). \n",
    "2.   The output of the Embedding layer goes to the LSTM cell which produces 2 state vectors ( `h` and `c` which are `encoder_states` )\n",
    "3.   These states are set in the LSTM cell of the decoder.\n",
    "4.   The decoder_input_data comes in through the Embedding layer.\n",
    "5.   The Embeddings goes in LSTM cell ( which had the states ) to produce seqeunces.\n",
    "\n",
    "\n",
    "\n",
    "\n",
    "\n",
    "\n",
    "\n"
   ]
  },
  {
   "cell_type": "code",
   "execution_count": 8,
   "metadata": {
    "id": "eNeYeS2PFbEL"
   },
   "outputs": [],
   "source": [
    "tf.keras.backend.clear_session()"
   ]
  },
  {
   "cell_type": "code",
   "execution_count": 16,
   "metadata": {
    "colab": {
     "base_uri": "https://localhost:8080/"
    },
    "id": "Vo4TmWY7ChL1",
    "outputId": "a23d5380-3bc5-4d4c-8617-5d89927f9182"
   },
   "outputs": [
    {
     "name": "stdout",
     "output_type": "stream",
     "text": [
      "Model: \"model_3\"\n",
      "__________________________________________________________________________________________________\n",
      "Layer (type)                    Output Shape         Param #     Connected to                     \n",
      "==================================================================================================\n",
      "input_5 (InputLayer)            [(None, None)]       0                                            \n",
      "__________________________________________________________________________________________________\n",
      "input_6 (InputLayer)            [(None, None)]       0                                            \n",
      "__________________________________________________________________________________________________\n",
      "embedding_2 (Embedding)         (None, None, 256)    950272      input_5[0][0]                    \n",
      "__________________________________________________________________________________________________\n",
      "embedding_3 (Embedding)         (None, None, 256)    605184      input_6[0][0]                    \n",
      "__________________________________________________________________________________________________\n",
      "lstm_2 (LSTM)                   [(None, 128), (None, 197120      embedding_2[0][0]                \n",
      "__________________________________________________________________________________________________\n",
      "lstm_3 (LSTM)                   [(None, None, 128),  197120      embedding_3[0][0]                \n",
      "                                                                 lstm_2[0][1]                     \n",
      "                                                                 lstm_2[0][2]                     \n",
      "__________________________________________________________________________________________________\n",
      "dense_1 (Dense)                 (None, None, 2364)   304956      lstm_3[0][0]                     \n",
      "==================================================================================================\n",
      "Total params: 2,254,652\n",
      "Trainable params: 2,254,652\n",
      "Non-trainable params: 0\n",
      "__________________________________________________________________________________________________\n"
     ]
    }
   ],
   "source": [
    "encoder_inputs = layers.Input(shape=(None, ))\n",
    "encoder_embedding = layers.Embedding(num_eng_tokens, 256, mask_zero=True)(encoder_inputs)\n",
    "encoder_outputs, state_h, state_c = layers.LSTM(128, return_state=True)(encoder_embedding)\n",
    "encoder_states = [state_h, state_c]\n",
    "\n",
    "decoder_inputs = layers.Input(shape=(None, ))\n",
    "decoder_embedding = layers.Embedding(num_vie_tokens, 256, mask_zero=True)(decoder_inputs)\n",
    "decoder_lstm = layers.LSTM(128, return_state=True, return_sequences=True)\n",
    "decoder_outputs, _, _ = decoder_lstm(decoder_embedding, initial_state=encoder_states)\n",
    "decoder_dense = layers.Dense(num_vie_tokens, activation='softmax')\n",
    "output = decoder_dense(decoder_outputs)\n",
    "\n",
    "model = tf.keras.models.Model([encoder_inputs, decoder_inputs], output)\n",
    "model.compile(optimizer=tf.keras.optimizers.Adam(), loss='categorical_crossentropy')\n",
    "\n",
    "model.summary()\n"
   ]
  },
  {
   "cell_type": "markdown",
   "metadata": {
    "id": "CLGjMpL8F2y_"
   },
   "source": [
    "### 2) Training the model"
   ]
  },
  {
   "cell_type": "code",
   "execution_count": 18,
   "metadata": {
    "colab": {
     "base_uri": "https://localhost:8080/"
    },
    "id": "5LPYsgXFCyBI",
    "outputId": "8f14cb8e-120e-4ad0-ad26-21d51295a7f2"
   },
   "outputs": [
    {
     "name": "stdout",
     "output_type": "stream",
     "text": [
      "Epoch 1/50\n",
      "472/472 [==============================] - 14s 30ms/step - loss: 1.1095\n",
      "Epoch 2/50\n",
      "472/472 [==============================] - 14s 30ms/step - loss: 1.0094\n",
      "Epoch 3/50\n",
      "472/472 [==============================] - 14s 30ms/step - loss: 0.9325\n",
      "Epoch 4/50\n",
      "472/472 [==============================] - 14s 30ms/step - loss: 0.8703\n",
      "Epoch 5/50\n",
      "472/472 [==============================] - 14s 30ms/step - loss: 0.8114\n",
      "Epoch 6/50\n",
      "472/472 [==============================] - 14s 30ms/step - loss: 0.7544\n",
      "Epoch 7/50\n",
      "472/472 [==============================] - 15s 31ms/step - loss: 0.7017\n",
      "Epoch 8/50\n",
      "472/472 [==============================] - 14s 30ms/step - loss: 0.6513\n",
      "Epoch 9/50\n",
      "472/472 [==============================] - 14s 31ms/step - loss: 0.6046\n",
      "Epoch 10/50\n",
      "472/472 [==============================] - 15s 31ms/step - loss: 0.5612\n",
      "Epoch 11/50\n",
      "472/472 [==============================] - 14s 30ms/step - loss: 0.5206\n",
      "Epoch 12/50\n",
      "472/472 [==============================] - 14s 30ms/step - loss: 0.4828\n",
      "Epoch 13/50\n",
      "472/472 [==============================] - 14s 31ms/step - loss: 0.4474\n",
      "Epoch 14/50\n",
      "472/472 [==============================] - 14s 30ms/step - loss: 0.4150\n",
      "Epoch 15/50\n",
      "472/472 [==============================] - 14s 30ms/step - loss: 0.3848\n",
      "Epoch 16/50\n",
      "472/472 [==============================] - 14s 30ms/step - loss: 0.3571\n",
      "Epoch 17/50\n",
      "472/472 [==============================] - 14s 30ms/step - loss: 0.3311\n",
      "Epoch 18/50\n",
      "472/472 [==============================] - 14s 30ms/step - loss: 0.3071\n",
      "Epoch 19/50\n",
      "472/472 [==============================] - 14s 31ms/step - loss: 0.2856\n",
      "Epoch 20/50\n",
      "472/472 [==============================] - 14s 30ms/step - loss: 0.2651\n",
      "Epoch 21/50\n",
      "472/472 [==============================] - 14s 30ms/step - loss: 0.2470\n",
      "Epoch 22/50\n",
      "472/472 [==============================] - 14s 30ms/step - loss: 0.2300\n",
      "Epoch 23/50\n",
      "472/472 [==============================] - 14s 30ms/step - loss: 0.2134\n",
      "Epoch 24/50\n",
      "472/472 [==============================] - 14s 30ms/step - loss: 0.1990\n",
      "Epoch 25/50\n",
      "472/472 [==============================] - 15s 31ms/step - loss: 0.1856\n",
      "Epoch 26/50\n",
      "472/472 [==============================] - 14s 30ms/step - loss: 0.1732\n",
      "Epoch 27/50\n",
      "472/472 [==============================] - 14s 30ms/step - loss: 0.1614\n",
      "Epoch 28/50\n",
      "472/472 [==============================] - 14s 31ms/step - loss: 0.1512\n",
      "Epoch 29/50\n",
      "472/472 [==============================] - 14s 30ms/step - loss: 0.1407\n",
      "Epoch 30/50\n",
      "472/472 [==============================] - 14s 30ms/step - loss: 0.1313\n",
      "Epoch 31/50\n",
      "472/472 [==============================] - 14s 30ms/step - loss: 0.1245\n",
      "Epoch 32/50\n",
      "472/472 [==============================] - 14s 30ms/step - loss: 0.1152\n",
      "Epoch 33/50\n",
      "472/472 [==============================] - 14s 30ms/step - loss: 0.1087\n",
      "Epoch 34/50\n",
      "472/472 [==============================] - 14s 31ms/step - loss: 0.1016\n",
      "Epoch 35/50\n",
      "472/472 [==============================] - 14s 30ms/step - loss: 0.0949\n",
      "Epoch 36/50\n",
      "472/472 [==============================] - 14s 30ms/step - loss: 0.0897\n",
      "Epoch 37/50\n",
      "472/472 [==============================] - 14s 31ms/step - loss: 0.0841\n",
      "Epoch 38/50\n",
      "472/472 [==============================] - 14s 30ms/step - loss: 0.0792\n",
      "Epoch 39/50\n",
      "472/472 [==============================] - 14s 30ms/step - loss: 0.0749\n",
      "Epoch 40/50\n",
      "472/472 [==============================] - 15s 31ms/step - loss: 0.0711\n",
      "Epoch 41/50\n",
      "472/472 [==============================] - 14s 31ms/step - loss: 0.0675\n",
      "Epoch 42/50\n",
      "472/472 [==============================] - 14s 30ms/step - loss: 0.0639\n",
      "Epoch 43/50\n",
      "472/472 [==============================] - 14s 31ms/step - loss: 0.0611\n",
      "Epoch 44/50\n",
      "472/472 [==============================] - 14s 30ms/step - loss: 0.0579\n",
      "Epoch 45/50\n",
      "472/472 [==============================] - 14s 31ms/step - loss: 0.0543\n",
      "Epoch 46/50\n",
      "472/472 [==============================] - 14s 30ms/step - loss: 0.0521\n",
      "Epoch 47/50\n",
      "472/472 [==============================] - 14s 30ms/step - loss: 0.0501\n",
      "Epoch 48/50\n",
      "472/472 [==============================] - 14s 30ms/step - loss: 0.0474\n",
      "Epoch 49/50\n",
      "472/472 [==============================] - 14s 30ms/step - loss: 0.0458\n",
      "Epoch 50/50\n",
      "472/472 [==============================] - 14s 30ms/step - loss: 0.0440\n"
     ]
    }
   ],
   "source": [
    "history = model.fit([encoder_input_data, decoder_input_data], decoder_target_data, batch_size=16, epochs=50)"
   ]
  },
  {
   "cell_type": "code",
   "execution_count": 19,
   "metadata": {
    "colab": {
     "base_uri": "https://localhost:8080/",
     "height": 282
    },
    "id": "_1KuJ34vIlyi",
    "outputId": "eee6a4f5-4cd5-46ed-892b-5db312ac3ba0"
   },
   "outputs": [
    {
     "data": {
      "text/plain": [
       "<matplotlib.axes._subplots.AxesSubplot at 0x7feea0277ad0>"
      ]
     },
     "execution_count": 19,
     "metadata": {
      "tags": []
     },
     "output_type": "execute_result"
    },
    {
     "data": {
      "image/png": "[encoded data removed]",
      "text/plain": [
       "<Figure size 432x288 with 1 Axes>"
      ]
     },
     "metadata": {
      "needs_background": "light",
      "tags": []
     },
     "output_type": "display_data"
    }
   ],
   "source": [
    "pd.DataFrame(history.history).plot()"
   ]
  },
  {
   "cell_type": "markdown",
   "metadata": {
    "id": "FrDgRMYPGzzA"
   },
   "source": [
    "### 1) Defining inference models\n",
    "We create inference models which help in predicting translations.\n",
    "\n",
    "**Encoder inference model** : Takes the English sentence as input and outputs LSTM states ( `h` and `c` ).\n",
    "\n",
    "**Decoder inference model** : Takes in 2 inputs, one are the LSTM states ( Output of encoder model ), second are the Vietnamese input seqeunces ( ones not having the `<start>` tag ). It will output the translations of the English sentence which we fed to the encoder model and its state values.\n",
    "\n",
    "\n",
    "\n"
   ]
  },
  {
   "cell_type": "code",
   "execution_count": 12,
   "metadata": {
    "id": "uijAG4WUGTW9"
   },
   "outputs": [],
   "source": [
    "def make_inference_model():\n",
    "  encoder_model = models.Model(encoder_inputs, encoder_states)\n",
    "  \n",
    "  decoder_state_input_h = layers.Input(shape=(128, ))\n",
    "  decoder_state_input_c = layers.Input(shape=(128, ))\n",
    "\n",
    "  decoder_state_inputs = [decoder_state_input_h, decoder_state_input_c]\n",
    "\n",
    "  decoder_outputs, state_h, state_c = decoder_lstm(\n",
    "      decoder_embedding, initial_state=decoder_state_inputs\n",
    "  )\n",
    "\n",
    "  decoder_states = [state_h, state_c]\n",
    "  decoder_outputs = decoder_dense(decoder_outputs)\n",
    "  decoder_model = models.Model(\n",
    "      [decoder_inputs] + decoder_state_inputs,\n",
    "      [decoder_outputs] + decoder_states)\n",
    "  \n",
    "  return encoder_model, decoder_model"
   ]
  },
  {
   "cell_type": "markdown",
   "metadata": {
    "id": "VVw4rrooQ_lV"
   },
   "source": [
    "\n",
    "\n",
    "```\n",
    "# This is formatted as code\n",
    "```\n",
    "\n",
    "### 2) Making some translations\n",
    "\n",
    "\n",
    "1.   First, we take a English sequence and predict the state values using `enc_model`.\n",
    "2.   We set the state values in the decoder's LSTM.\n",
    "3.   Then, we generate a sequence which contains the `<start>` element.\n",
    "4.   We input this sequence in the `dec_model`.\n",
    "5.   We replace the `<start>` element with the element which was predicted by the `dec_model` and update the state values.\n",
    "6.   We carry out the above steps iteratively till we hit the `<end>` tag or the maximum sequence length.\n",
    "\n",
    "\n",
    "\n",
    "\n",
    "\n"
   ]
  },
  {
   "cell_type": "code",
   "execution_count": 13,
   "metadata": {
    "id": "jFjWyD_qMxad"
   },
   "outputs": [],
   "source": [
    "def str_to_tokens(sentence: str):\n",
    "  sentence = sentence.lower()\n",
    "  words = underthesea.word_tokenize(sentence)\n",
    "  tokens_list = []\n",
    "\n",
    "  for word in words:\n",
    "      tokens_list.append(eng_word_dict[word]) \n",
    "  return preprocessing.sequence.pad_sequences([tokens_list], maxlen=max_input_length , padding='post')\n"
   ]
  },
  {
   "cell_type": "code",
   "execution_count": 22,
   "metadata": {
    "colab": {
     "base_uri": "https://localhost:8080/",
     "height": 800
    },
    "id": "rK9uUpWaRv6B",
    "outputId": "ec8b1a00-8a58-4bb2-cb86-6d5236c55812"
   },
   "outputs": [
    {
     "name": "stdout",
     "output_type": "stream",
     "text": [
      "Enter eng sentence : I try\n",
      " tôi sẽ thử xem sao end\n",
      "Enter eng sentence : Are you thirsty\n",
      " bạn có khát nước không end\n",
      "Enter eng sentence : Are you hungry\n",
      " bạn có đói bụng không end\n",
      "Enter eng sentence : Are you crazy\n",
      " bạn đã ăn end\n",
      "Enter eng sentence : It's my favorite song\n",
      " đó là bài hát yêu thích của tôi end\n",
      "Enter eng sentence : Which year will you graduate\n",
      " bạn sẽ tốt nghiệp tuần sau end\n",
      "Enter eng sentence : I love traveling\n",
      " tôi thích vừa đi end\n",
      "Enter eng sentence : you are stupid a machine\n",
      " bạn bạn đã làm một bức thư của bạn end\n"
     ]
    },
    {
     "ename": "KeyboardInterrupt",
     "evalue": "ignored",
     "output_type": "error",
     "traceback": [
      "\u001b[0;31m---------------------------------------------------------------------------\u001b[0m",
      "\u001b[0;31mKeyboardInterrupt\u001b[0m                         Traceback (most recent call last)",
      "\u001b[0;32m/usr/local/lib/python3.7/dist-packages/ipykernel/kernelbase.py\u001b[0m in \u001b[0;36m_input_request\u001b[0;34m(self, prompt, ident, parent, password)\u001b[0m\n\u001b[1;32m    728\u001b[0m             \u001b[0;32mtry\u001b[0m\u001b[0;34m:\u001b[0m\u001b[0;34m\u001b[0m\u001b[0;34m\u001b[0m\u001b[0m\n\u001b[0;32m--> 729\u001b[0;31m                 \u001b[0mident\u001b[0m\u001b[0;34m,\u001b[0m \u001b[0mreply\u001b[0m \u001b[0;34m=\u001b[0m \u001b[0mself\u001b[0m\u001b[0;34m.\u001b[0m\u001b[0msession\u001b[0m\u001b[0;34m.\u001b[0m\u001b[0mrecv\u001b[0m\u001b[0;34m(\u001b[0m\u001b[0mself\u001b[0m\u001b[0;34m.\u001b[0m\u001b[0mstdin_socket\u001b[0m\u001b[0;34m,\u001b[0m \u001b[0;36m0\u001b[0m\u001b[0;34m)\u001b[0m\u001b[0;34m\u001b[0m\u001b[0;34m\u001b[0m\u001b[0m\n\u001b[0m\u001b[1;32m    730\u001b[0m             \u001b[0;32mexcept\u001b[0m \u001b[0mException\u001b[0m\u001b[0;34m:\u001b[0m\u001b[0;34m\u001b[0m\u001b[0;34m\u001b[0m\u001b[0m\n",
      "\u001b[0;32m/usr/local/lib/python3.7/dist-packages/jupyter_client/session.py\u001b[0m in \u001b[0;36mrecv\u001b[0;34m(self, socket, mode, content, copy)\u001b[0m\n\u001b[1;32m    802\u001b[0m         \u001b[0;32mtry\u001b[0m\u001b[0;34m:\u001b[0m\u001b[0;34m\u001b[0m\u001b[0;34m\u001b[0m\u001b[0m\n\u001b[0;32m--> 803\u001b[0;31m             \u001b[0mmsg_list\u001b[0m \u001b[0;34m=\u001b[0m \u001b[0msocket\u001b[0m\u001b[0;34m.\u001b[0m\u001b[0mrecv_multipart\u001b[0m\u001b[0;34m(\u001b[0m\u001b[0mmode\u001b[0m\u001b[0;34m,\u001b[0m \u001b[0mcopy\u001b[0m\u001b[0;34m=\u001b[0m\u001b[0mcopy\u001b[0m\u001b[0;34m)\u001b[0m\u001b[0;34m\u001b[0m\u001b[0;34m\u001b[0m\u001b[0m\n\u001b[0m\u001b[1;32m    804\u001b[0m         \u001b[0;32mexcept\u001b[0m \u001b[0mzmq\u001b[0m\u001b[0;34m.\u001b[0m\u001b[0mZMQError\u001b[0m \u001b[0;32mas\u001b[0m \u001b[0me\u001b[0m\u001b[0;34m:\u001b[0m\u001b[0;34m\u001b[0m\u001b[0;34m\u001b[0m\u001b[0m\n",
      "\u001b[0;32m/usr/local/lib/python3.7/dist-packages/zmq/sugar/socket.py\u001b[0m in \u001b[0;36mrecv_multipart\u001b[0;34m(self, flags, copy, track)\u001b[0m\n\u001b[1;32m    582\u001b[0m         \"\"\"\n\u001b[0;32m--> 583\u001b[0;31m         \u001b[0mparts\u001b[0m \u001b[0;34m=\u001b[0m \u001b[0;34m[\u001b[0m\u001b[0mself\u001b[0m\u001b[0;34m.\u001b[0m\u001b[0mrecv\u001b[0m\u001b[0;34m(\u001b[0m\u001b[0mflags\u001b[0m\u001b[0;34m,\u001b[0m \u001b[0mcopy\u001b[0m\u001b[0;34m=\u001b[0m\u001b[0mcopy\u001b[0m\u001b[0;34m,\u001b[0m \u001b[0mtrack\u001b[0m\u001b[0;34m=\u001b[0m\u001b[0mtrack\u001b[0m\u001b[0;34m)\u001b[0m\u001b[0;34m]\u001b[0m\u001b[0;34m\u001b[0m\u001b[0;34m\u001b[0m\u001b[0m\n\u001b[0m\u001b[1;32m    584\u001b[0m         \u001b[0;31m# have first part already, only loop while more to receive\u001b[0m\u001b[0;34m\u001b[0m\u001b[0;34m\u001b[0m\u001b[0;34m\u001b[0m\u001b[0m\n",
      "\u001b[0;32mzmq/backend/cython/socket.pyx\u001b[0m in \u001b[0;36mzmq.backend.cython.socket.Socket.recv\u001b[0;34m()\u001b[0m\n",
      "\u001b[0;32mzmq/backend/cython/socket.pyx\u001b[0m in \u001b[0;36mzmq.backend.cython.socket.Socket.recv\u001b[0;34m()\u001b[0m\n",
      "\u001b[0;32mzmq/backend/cython/socket.pyx\u001b[0m in \u001b[0;36mzmq.backend.cython.socket._recv_copy\u001b[0;34m()\u001b[0m\n",
      "\u001b[0;32m/usr/local/lib/python3.7/dist-packages/zmq/backend/cython/checkrc.pxd\u001b[0m in \u001b[0;36mzmq.backend.cython.checkrc._check_rc\u001b[0;34m()\u001b[0m\n",
      "\u001b[0;31mKeyboardInterrupt\u001b[0m: ",
      "\nDuring handling of the above exception, another exception occurred:\n",
      "\u001b[0;31mKeyboardInterrupt\u001b[0m                         Traceback (most recent call last)",
      "\u001b[0;32m<ipython-input-22-53007f384c8a>\u001b[0m in \u001b[0;36m<module>\u001b[0;34m()\u001b[0m\n\u001b[1;32m      2\u001b[0m \u001b[0;34m\u001b[0m\u001b[0m\n\u001b[1;32m      3\u001b[0m \u001b[0;32mfor\u001b[0m \u001b[0mepoch\u001b[0m \u001b[0;32min\u001b[0m \u001b[0mrange\u001b[0m\u001b[0;34m(\u001b[0m\u001b[0mencoder_input_data\u001b[0m\u001b[0;34m.\u001b[0m\u001b[0mshape\u001b[0m\u001b[0;34m[\u001b[0m\u001b[0;36m0\u001b[0m\u001b[0;34m]\u001b[0m\u001b[0;34m)\u001b[0m\u001b[0;34m:\u001b[0m\u001b[0;34m\u001b[0m\u001b[0;34m\u001b[0m\u001b[0m\n\u001b[0;32m----> 4\u001b[0;31m   \u001b[0mstates_values\u001b[0m \u001b[0;34m=\u001b[0m \u001b[0menc_model\u001b[0m\u001b[0;34m.\u001b[0m\u001b[0mpredict\u001b[0m\u001b[0;34m(\u001b[0m\u001b[0mstr_to_tokens\u001b[0m\u001b[0;34m(\u001b[0m\u001b[0minput\u001b[0m\u001b[0;34m(\u001b[0m \u001b[0;34m'Enter eng sentence : '\u001b[0m \u001b[0;34m)\u001b[0m\u001b[0;34m)\u001b[0m\u001b[0;34m)\u001b[0m\u001b[0;34m\u001b[0m\u001b[0;34m\u001b[0m\u001b[0m\n\u001b[0m\u001b[1;32m      5\u001b[0m   \u001b[0mempty_target_seq\u001b[0m \u001b[0;34m=\u001b[0m \u001b[0mnp\u001b[0m\u001b[0;34m.\u001b[0m\u001b[0mzeros\u001b[0m\u001b[0;34m(\u001b[0m\u001b[0;34m(\u001b[0m\u001b[0;36m1\u001b[0m\u001b[0;34m,\u001b[0m \u001b[0;36m1\u001b[0m\u001b[0;34m)\u001b[0m\u001b[0;34m)\u001b[0m\u001b[0;34m\u001b[0m\u001b[0;34m\u001b[0m\u001b[0m\n\u001b[1;32m      6\u001b[0m   \u001b[0mempty_target_seq\u001b[0m\u001b[0;34m[\u001b[0m\u001b[0;36m0\u001b[0m\u001b[0;34m,\u001b[0m \u001b[0;36m0\u001b[0m\u001b[0;34m]\u001b[0m \u001b[0;34m=\u001b[0m \u001b[0mvie_word_dict\u001b[0m\u001b[0;34m[\u001b[0m\u001b[0;34m'start'\u001b[0m\u001b[0;34m]\u001b[0m\u001b[0;34m\u001b[0m\u001b[0;34m\u001b[0m\u001b[0m\n",
      "\u001b[0;32m/usr/local/lib/python3.7/dist-packages/ipykernel/kernelbase.py\u001b[0m in \u001b[0;36mraw_input\u001b[0;34m(self, prompt)\u001b[0m\n\u001b[1;32m    702\u001b[0m             \u001b[0mself\u001b[0m\u001b[0;34m.\u001b[0m\u001b[0m_parent_ident\u001b[0m\u001b[0;34m,\u001b[0m\u001b[0;34m\u001b[0m\u001b[0;34m\u001b[0m\u001b[0m\n\u001b[1;32m    703\u001b[0m             \u001b[0mself\u001b[0m\u001b[0;34m.\u001b[0m\u001b[0m_parent_header\u001b[0m\u001b[0;34m,\u001b[0m\u001b[0;34m\u001b[0m\u001b[0;34m\u001b[0m\u001b[0m\n\u001b[0;32m--> 704\u001b[0;31m             \u001b[0mpassword\u001b[0m\u001b[0;34m=\u001b[0m\u001b[0;32mFalse\u001b[0m\u001b[0;34m,\u001b[0m\u001b[0;34m\u001b[0m\u001b[0;34m\u001b[0m\u001b[0m\n\u001b[0m\u001b[1;32m    705\u001b[0m         )\n\u001b[1;32m    706\u001b[0m \u001b[0;34m\u001b[0m\u001b[0m\n",
      "\u001b[0;32m/usr/local/lib/python3.7/dist-packages/ipykernel/kernelbase.py\u001b[0m in \u001b[0;36m_input_request\u001b[0;34m(self, prompt, ident, parent, password)\u001b[0m\n\u001b[1;32m    732\u001b[0m             \u001b[0;32mexcept\u001b[0m \u001b[0mKeyboardInterrupt\u001b[0m\u001b[0;34m:\u001b[0m\u001b[0;34m\u001b[0m\u001b[0;34m\u001b[0m\u001b[0m\n\u001b[1;32m    733\u001b[0m                 \u001b[0;31m# re-raise KeyboardInterrupt, to truncate traceback\u001b[0m\u001b[0;34m\u001b[0m\u001b[0;34m\u001b[0m\u001b[0;34m\u001b[0m\u001b[0m\n\u001b[0;32m--> 734\u001b[0;31m                 \u001b[0;32mraise\u001b[0m \u001b[0mKeyboardInterrupt\u001b[0m\u001b[0;34m\u001b[0m\u001b[0;34m\u001b[0m\u001b[0m\n\u001b[0m\u001b[1;32m    735\u001b[0m             \u001b[0;32melse\u001b[0m\u001b[0;34m:\u001b[0m\u001b[0;34m\u001b[0m\u001b[0;34m\u001b[0m\u001b[0m\n\u001b[1;32m    736\u001b[0m                 \u001b[0;32mbreak\u001b[0m\u001b[0;34m\u001b[0m\u001b[0;34m\u001b[0m\u001b[0m\n",
      "\u001b[0;31mKeyboardInterrupt\u001b[0m: "
     ]
    }
   ],
   "source": [
    "enc_model, dec_model = make_inference_model()\n",
    "\n",
    "for epoch in range(encoder_input_data.shape[0]):\n",
    "  states_values = enc_model.predict(str_to_tokens(input( 'Enter eng sentence : ' )))\n",
    "  empty_target_seq = np.zeros((1, 1))\n",
    "  empty_target_seq[0, 0] = vie_word_dict['start']\n",
    "  stop_condition = False\n",
    "  decoded_translation = \"\"\n",
    "\n",
    "  while not stop_condition:\n",
    "    dec_outputs, h, c = dec_model.predict([empty_target_seq] + states_values)\n",
    "    sampled_word_index = np.argmax(dec_outputs[0, -1, :])\n",
    "    sampled_word = None\n",
    "    \n",
    "    for word, index in vie_word_dict.items():\n",
    "      if sampled_word_index == index:\n",
    "        decoded_translation += f' {word}'\n",
    "        sampled_word = word\n",
    "\n",
    "      if sampled_word == 'end' or len(decoded_translation.split()) > max_output_length:\n",
    "        stop_condition = True\n",
    "\n",
    "    empty_target_seq[0 , 0] = sampled_word_index\n",
    "    states_values = [h , c]\n",
    "\n",
    "  print(decoded_translation)"
   ]
  },
  {
   "cell_type": "markdown",
   "metadata": {
    "id": "UWkDYTUBlwug"
   },
   "source": [
    "Mô hình giải quyết được output không cố định số từ.\n",
    "\n",
    "Cũng không tốt lắm, cần dữ liệu nhiều hơn."
   ]
  },
  {
   "cell_type": "code",
   "execution_count": 20,
   "metadata": {
    "id": "aO8CXa7HVJfl"
   },
   "outputs": [],
   "source": []
  }
 ],
 "metadata": {
  "accelerator": "GPU",
  "colab": {
   "collapsed_sections": [],
   "name": "machine_translation_18521283.ipynb",
   "provenance": []
  },
  "kernelspec": {
   "display_name": "Python 3",
   "language": "python",
   "name": "python3"
  },
  "language_info": {
   "codemirror_mode": {
    "name": "ipython",
    "version": 3
   },
   "file_extension": ".py",
   "mimetype": "text/x-python",
   "name": "python",
   "nbconvert_exporter": "python",
   "pygments_lexer": "ipython3",
   "version": "3.8.5"
  }
 },
 "nbformat": 4,
 "nbformat_minor": 1
}
